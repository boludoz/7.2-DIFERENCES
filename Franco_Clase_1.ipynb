{
  "cells": [
    {
      "cell_type": "markdown",
      "metadata": {
        "id": "view-in-github",
        "colab_type": "text"
      },
      "source": [
        "<a href=\"https://colab.research.google.com/github/boludoz/7.2-DIFERENCES/blob/master/Franco_Clase_1.ipynb\" target=\"_parent\"><img src=\"https://colab.research.google.com/assets/colab-badge.svg\" alt=\"Open In Colab\"/></a>"
      ]
    },
    {
      "cell_type": "markdown",
      "metadata": {
        "id": "cGeXNl5JgGFX"
      },
      "source": [
        "#**Actividad 1**\n",
        "\n",
        "*Realizar la actividad en grupos de 2 o 3 personas*\n",
        "\n",
        "**Consigna 1:**\n",
        "*Hacer en el cuaderno*\n",
        "\n",
        "Imaginen que son vendedores de un supermercado. Escriban las instrucciones para conocer cómo calcular el precio total de la siguiente venta: dos paquetes de arroz (cada uno sale 300 pesos) y cinco paquetes de fideos (cada uno sale 400 pesos).\n",
        "\n",
        "\n",
        "\n"
      ]
    },
    {
      "cell_type": "markdown",
      "metadata": {
        "id": "pEEl1xJPolsL"
      },
      "source": [
        "**Consigna 2:**\n",
        "*Hacer en el cuaderno*\n",
        "\n",
        " Ahora se agrega al pedido anterior 3 paquetes de chocolate (cada uno sale 500 pesos), escriban las instrucciones del nuevo pedido."
      ]
    },
    {
      "cell_type": "markdown",
      "metadata": {
        "id": "X1e-dZjNol4S"
      },
      "source": [
        "\n",
        "**Consigna 3:**\n",
        "\n",
        "*hacer sin computadora*\n",
        "\n",
        "¿Cuál es la información relevante para poder hacer el cálculo del precio total de la compra?\n",
        "A partir de esa info, elaboren una fórmula que modele la situación de la consigna 1."
      ]
    },
    {
      "cell_type": "markdown",
      "metadata": {
        "id": "MiH_bXnhomM2"
      },
      "source": [
        "\n",
        "**Consigna 4**\n",
        "\n",
        "El siguiente código resuelve el problema de la consigna 1. Observénlo. ¿hay alguna relación entre lo escrito en la *terminal* y lo que ustedes hicieron en la consigna 3? ¿cuál es? ¿para qué puede servir, entonces, pensar la fórmula de un problema?\n",
        "\n"
      ]
    },
    {
      "cell_type": "code",
      "execution_count": null,
      "metadata": {
        "colab": {
          "base_uri": "https://localhost:8080/"
        },
        "id": "4LTdSOI3gE5L",
        "outputId": "c7085690-4d2e-43d9-b618-b0c11f09df35"
      },
      "outputs": [
        {
          "name": "stdout",
          "output_type": "stream",
          "text": [
            "2600\n"
          ]
        }
      ],
      "source": [
        "# Indicar el precio de cada producto\n",
        "precio_arroz = 300\n",
        "precio_fideos = 400\n",
        "\n",
        "#Indicar la cantidad de cada producto a comprar\n",
        "cant_arroz=2\n",
        "cant_fideos=5\n",
        "\n",
        "#Calcular el importe de compra\n",
        "importe_compra= precio_arroz*cant_arroz+precio_fideos*cant_fideos\n",
        "\n",
        "#Informar el valor del importe\n",
        "print(importe_compra)"
      ]
    },
    {
      "cell_type": "markdown",
      "metadata": {
        "id": "KpozTHfBpyGF"
      },
      "source": [
        "**Consigna 5**\n",
        "\n",
        "Ahora les dejamos a continuación una terminal vacía. Copien ahí lo que está en la terminal anterior  y modifiquen el código para agregar los 3 paquetes de chocolate de la consigna 2 de esta actividad en el cálculo del importe de la compra"
      ]
    },
    {
      "cell_type": "code",
      "execution_count": null,
      "metadata": {
        "colab": {
          "base_uri": "https://localhost:8080/"
        },
        "id": "QhpowDbgqDp5",
        "outputId": "fce739b3-934e-49e0-c39b-93b7e770c5c8"
      },
      "outputs": [
        {
          "output_type": "stream",
          "name": "stdout",
          "text": [
            "Total valor de productos:  4100\n"
          ]
        }
      ],
      "source": [
        "# Indicar el precio de cada producto\n",
        "precio_arroz = 300\n",
        "precio_fideos = 400\n",
        "precio_chocolate = 500\n",
        "\n",
        "#Indicar la cantidad de cada producto a comprar\n",
        "cant_arroz = 2\n",
        "cant_fideos = 5\n",
        "cant_chocolate = 3\n",
        "\n",
        "#Calcular el importe de compra\n",
        "importe_compra= precio_arroz * cant_arroz + precio_fideos * cant_fideos + precio_chocolate * cant_chocolate\n",
        "\n",
        "#Informar el valor del importe\n",
        "print(\"Total valor de productos: \", importe_compra)\n",
        "\n",
        "\n",
        "\n"
      ]
    },
    {
      "cell_type": "markdown",
      "metadata": {
        "id": "k5eG6s9fZukN"
      },
      "source": [
        "# **Actividad 2**\n",
        "\n",
        "**Consigna 1**:\n",
        "\n",
        "El siguiente algoritmo les pregunta su nombre, lugar de donde provienen y edad, y lo guarda. Miren cómo funciona y ejecútenlo.\n",
        "Escribir la información obtenida en la pantalla\n",
        "\n"
      ]
    },
    {
      "cell_type": "code",
      "execution_count": null,
      "metadata": {
        "colab": {
          "base_uri": "https://localhost:8080/"
        },
        "id": "atTWPZ2wXcpL",
        "outputId": "0b03c4ef-49fb-4ed5-f972-ceb80527984e"
      },
      "outputs": [
        {
          "name": "stdout",
          "output_type": "stream",
          "text": [
            "Escribir nombre Franco\n",
            "lugar de procedencia Ingeniero Maschwitz\n",
            "edad25\n"
          ]
        }
      ],
      "source": [
        "nombre=input('Escribir nombre ')\n",
        "procedencia=input('lugar de procedencia ')\n",
        "edad=input('edad')"
      ]
    },
    {
      "cell_type": "markdown",
      "metadata": {
        "id": "-9ThCJeqZsqS"
      },
      "source": [
        "Veamos qué hizo el algoritmo"
      ]
    },
    {
      "cell_type": "code",
      "execution_count": null,
      "metadata": {
        "colab": {
          "base_uri": "https://localhost:8080/"
        },
        "id": "vOB8O69qXdIL",
        "outputId": "cdcde658-f10e-46fe-be10-3e374a7421a4"
      },
      "outputs": [
        {
          "name": "stdout",
          "output_type": "stream",
          "text": [
            "Alejandro\n",
            "Argentina\n",
            "32\n"
          ]
        }
      ],
      "source": [
        "print(nombre)\n",
        "print(procedencia)\n",
        "print(edad)\n"
      ]
    },
    {
      "cell_type": "markdown",
      "metadata": {
        "id": "b0ZECewSafRI"
      },
      "source": [
        "**Consigna 2**:\n",
        "¿Qué modificaciones habría que hacerle al algoritmo si se quisiera saber primero la edad, luego el nombre y por último el lugar de procedencia? ¿y si quisiéramos además conocer el gusto de helado favorito?\n"
      ]
    },
    {
      "cell_type": "code",
      "execution_count": null,
      "metadata": {
        "colab": {
          "base_uri": "https://localhost:8080/"
        },
        "id": "Y4vIxqnvXfmL",
        "outputId": "3cdf6fb7-0946-4f30-97fb-1c84a62b6f2b"
      },
      "outputs": [
        {
          "name": "stdout",
          "output_type": "stream",
          "text": [
            "Edad: 25\n",
            "Escribir nombre: Franco\n",
            "Lugar de procedencia: Ingeniero Maschiwitz\n",
            "Gusto de helado favorito: Dulce de leche granizado\n"
          ]
        }
      ],
      "source": [
        "#Hacer las modificaciones correspondientes para cumplir con la consigna 2\n",
        "# Para hacer que se pregunte y se muestre primero la edad, luego el nombre y por ultimo el lugar de procedencia, debemos modificar el orden de las lineas\n",
        "edad = input('Edad: ')\n",
        "nombre=input('Escribir nombre: ')\n",
        "procedencia=input('Lugar de procedencia: ')\n",
        "\n",
        "# Para conocer el gusto favorito de helado, debemos agregar una linea que pregunte el nombre del helado\n",
        "procedencia=input('Gusto de helado favorito: ')\n"
      ]
    },
    {
      "cell_type": "markdown",
      "metadata": {
        "id": "N0NBd-GdcN-l"
      },
      "source": [
        "**Consigna 3:**\n",
        "\n",
        "El siguiente código sirve para clasificar, conociendo el salario de una persona, si cobra más o menos de 100 pesos la hora. Si cobra más, escribe en la pantalla “el salario es mayor a 100 por hora”. Si cobra menos, escribe “el salario es menor a 100 por hora”.\n",
        "\n"
      ]
    },
    {
      "cell_type": "code",
      "execution_count": null,
      "metadata": {
        "colab": {
          "base_uri": "https://localhost:8080/"
        },
        "id": "hhY4EcUGkWbA",
        "outputId": "6040ada5-9975-43a8-8d4d-95fa8d16c670"
      },
      "outputs": [
        {
          "name": "stdout",
          "output_type": "stream",
          "text": [
            "el salario es menor a 100 por hora\n"
          ]
        }
      ],
      "source": [
        "#introducimos valor hora del salario\n",
        "salario=50\n",
        "\n",
        "#decide si es mayor a 100\n",
        "if salario>100:\n",
        "  print('el salario es mayor a 100 por hora')\n",
        "\n",
        "else:\n",
        "  print('el salario es menor a 100 por hora')"
      ]
    },
    {
      "cell_type": "markdown",
      "metadata": {
        "id": "E2PnMXS9k1gt"
      },
      "source": [
        "\n",
        "A partir del código anterior, hagan un algoritmo que decida si una persona es mayor de edad o no y lo informe en la pantalla."
      ]
    },
    {
      "cell_type": "code",
      "execution_count": null,
      "metadata": {
        "colab": {
          "base_uri": "https://localhost:8080/"
        },
        "id": "DyfCwT55lWbP",
        "outputId": "87860cfe-0802-4f54-efb0-e8a23a8f6b29"
      },
      "outputs": [
        {
          "output_type": "stream",
          "name": "stdout",
          "text": [
            "Por favor, indique su edad: 12\n",
            "La persona es menor de edad\n"
          ]
        }
      ],
      "source": [
        "# Para decidir si una persona es mayor de edad, en el caso de Argentina deberiamos expresar si la persona tiene edad igual o mayor a 18 años\n",
        "edad_minima = 18\n",
        "edad_persona = -1\n",
        "\n",
        "while True:\n",
        "\n",
        "  # Comparacion para saber si la persona es mayor de edad o no\n",
        "  try:\n",
        "    edad_persona = input(\"Por favor, indique su edad: \")\n",
        "\n",
        "    if int(edad_minima) <= int(edad_persona):\n",
        "      print('La persona es mayor de edad')\n",
        "    else:\n",
        "      print('La persona es menor de edad')\n",
        "\n",
        "  except ValueError:\n",
        "    print('[ERROR] Valor ingresado incorrecto')\n",
        "  except EOFError:\n",
        "    print('[ERROR] Valor ingresado nulo')\n",
        "  except KeyboardInterrupt:\n",
        "    break\n",
        "  except Exception as e:\n",
        "    print('[ERROR] Error no controlado: ', e)\n",
        "  else:\n",
        "    break\n"
      ]
    },
    {
      "cell_type": "markdown",
      "metadata": {
        "id": "LJ7-yKY8kZXz"
      },
      "source": [
        "¿el algoritmo que hicieron hace lo que ustedes pusieron en la consigna 1 de la actividad anterior? ¿En qué momento toma la decisión?\n"
      ]
    },
    {
      "cell_type": "markdown",
      "metadata": {
        "id": "rfx045HlwONh"
      },
      "source": [
        "# **Actividad 4: El semáforo**\n",
        "\n",
        "**Consigna 1**\n",
        "\n",
        "*Hacer en el cuaderno*\n",
        "\n",
        "Teniendo en cuenta, lo  visto en el ejercicio anterior, crear un algoritmo que indique que pare si la luz está roja y que avance si la luz está verde.\n",
        "\n",
        "*Luego traslademos a código en el colab*\n",
        "\n",
        "\n",
        "\n"
      ]
    },
    {
      "cell_type": "code",
      "execution_count": null,
      "metadata": {
        "colab": {
          "base_uri": "https://localhost:8080/"
        },
        "id": "yI1VVN-Ew2R7",
        "outputId": "464e7471-64d2-4b4f-9a5d-8aa0e5f70eba"
      },
      "outputs": [
        {
          "output_type": "stream",
          "name": "stdout",
          "text": [
            "1. Rojo \n",
            "2. Verde\n",
            "Seleccione opcion: 4\n",
            "Estado semaforo invalido (opcion erronea)\n"
          ]
        }
      ],
      "source": [
        "estado_luz = \"\"\n",
        "\n",
        "while True:\n",
        "  try:\n",
        "\n",
        "    estado_luz = int(input('1. Rojo \\n2. Verde\\nSeleccione opcion: '))\n",
        "\n",
        "    if estado_luz == 1:\n",
        "      print('Estado de semaforo en \"pare\" (verde)')\n",
        "    elif estado_luz == 2:\n",
        "      print('Estado de semaforo en \"avance\" (rojo)')\n",
        "    else:\n",
        "      print('Estado semaforo invalido (opcion erronea)')\n",
        "\n",
        "    continue\n",
        "  except KeyboardInterrupt:\n",
        "    print(\"Programa interrumpido por el usuario\")\n",
        "    break\n",
        "  except:\n",
        "    print(\"Entrada invalida\")\n",
        "    continue\n",
        "\n",
        "  else:\n",
        "    break\n",
        "\n"
      ]
    },
    {
      "cell_type": "markdown",
      "metadata": {
        "id": "xH9WWcxjw68K"
      },
      "source": [
        "**Consigna 2**\n",
        "\n",
        "¿Cómo deberíamos modificar el código para que pare si la luz está roja, avance si la luz está verde y que acelere si la luz está amarilla?\n",
        "\n",
        "*Usen la pista que está en la diapositiva*"
      ]
    },
    {
      "cell_type": "code",
      "execution_count": null,
      "metadata": {
        "id": "sSBtk7W4w5gm",
        "colab": {
          "base_uri": "https://localhost:8080/"
        },
        "outputId": "8b7ca568-38e0-4216-9a6b-eec768330da5"
      },
      "outputs": [
        {
          "output_type": "stream",
          "name": "stdout",
          "text": [
            "1. Verde\n",
            "2. Amarillo\n",
            "3. Rojo\n",
            "Seleccione opcion: 1\n",
            "Estado de semaforo en \"avance\" (verde)\n",
            "1. Verde\n",
            "2. Amarillo\n",
            "3. Rojo\n",
            "Seleccione opcion: 2\n",
            "Estado de semaforo en \"acelere\" (amarillo)\n",
            "1. Verde\n",
            "2. Amarillo\n",
            "3. Rojo\n",
            "Seleccione opcion: 3\n",
            "Estado de semaforo en \"pare\" (rojo)\n",
            "Programa interrumpido por el usuario\n"
          ]
        }
      ],
      "source": [
        "estado_luz = \"\"\n",
        "\n",
        "while True:\n",
        "  try:\n",
        "    estado_luz = int(input('1. Verde\\n2. Amarillo\\n3. Rojo\\nSeleccione opcion: '))\n",
        "    if estado_luz == 1:\n",
        "      print('Estado de semaforo en \"avance\" (verde)')\n",
        "    elif estado_luz == 2:\n",
        "      print('Estado de semaforo en \"acelere\" (amarillo)')\n",
        "    elif estado_luz == 3:\n",
        "      print('Estado de semaforo en \"pare\" (rojo)')\n",
        "    else:\n",
        "      print('Estado semaforo invalido (opcion erronea)')\n",
        "\n",
        "    continue\n",
        "  except KeyboardInterrupt:\n",
        "    print(\"Programa interrumpido por el usuario\")\n",
        "    break\n",
        "  except:\n",
        "    print(\"Entrada invalida\")\n",
        "    continue\n",
        "  else:\n",
        "    break\n"
      ]
    },
    {
      "cell_type": "markdown",
      "metadata": {
        "id": "_hLkNU_zxSAw"
      },
      "source": [
        "**Consigna 3**\n",
        "\n",
        "Agreguemosle al código la luz naranja para que frene.\n"
      ]
    },
    {
      "cell_type": "code",
      "execution_count": null,
      "metadata": {
        "id": "IuLj9OWbxlU7",
        "colab": {
          "base_uri": "https://localhost:8080/"
        },
        "outputId": "417d2ae3-1817-497f-85d1-806098905b7d"
      },
      "outputs": [
        {
          "output_type": "stream",
          "name": "stdout",
          "text": [
            "1. Verde\n",
            "2. Amarillo\n",
            "3. Naranja\n",
            "4. Rojo\n",
            "Seleccione opcion: 3\n",
            "Estado de semaforo en \"frene\" (naranja)\n",
            "1. Verde\n",
            "2. Amarillo\n",
            "3. Naranja\n",
            "4. Rojo\n",
            "Seleccione opcion: 4\n",
            "Estado de semaforo en \"pare\" (rojo)\n",
            "1. Verde\n",
            "2. Amarillo\n",
            "3. Naranja\n",
            "4. Rojo\n",
            "Seleccione opcion: 1\n",
            "Estado de semaforo en \"avance\" (verde)\n",
            "1. Verde\n",
            "2. Amarillo\n",
            "3. Naranja\n",
            "4. Rojo\n",
            "Seleccione opcion: 2\n",
            "Estado de semaforo en \"acelere\" (amarillo)\n",
            "Programa interrumpido por el usuario\n"
          ]
        }
      ],
      "source": [
        "estado_luz = \"\"\n",
        "\n",
        "while True:\n",
        "  try:\n",
        "    estado_luz = int(input('1. Verde\\n2. Amarillo\\n3. Naranja\\n4. Rojo\\nSeleccione opcion: '))\n",
        "    if estado_luz == 1:\n",
        "      print('Estado de semaforo en \"avance\" (verde)')\n",
        "    elif estado_luz == 2:\n",
        "      print('Estado de semaforo en \"acelere\" (amarillo)')\n",
        "    elif estado_luz == 3:\n",
        "      print('Estado de semaforo en \"frene\" (naranja)')\n",
        "    elif estado_luz == 4:\n",
        "      print('Estado de semaforo en \"pare\" (rojo)')\n",
        "    else:\n",
        "      print('Estado semaforo invalido (opcion erronea)')\n",
        "\n",
        "    continue\n",
        "  except KeyboardInterrupt:\n",
        "    print(\"Programa interrumpido por el usuario\")\n",
        "    break\n",
        "  except:\n",
        "    print(\"Entrada invalida\")\n",
        "    continue\n",
        "\n",
        "  else:\n",
        "    break\n"
      ]
    },
    {
      "cell_type": "markdown",
      "metadata": {
        "id": "udgSOxXZx4yK"
      },
      "source": [
        "# **Actividad 5: Opciones de películas**\n",
        "\n",
        "Transformá el siguiente algoritmo a código de python y ejecutalo en el Colab\n",
        "\n",
        "\"#Imprimir el siguiente mensaje\"\n",
        "\n",
        "\"Selecciona un número que indique el nombre de tu película favorita:\n",
        "\n",
        "1.Opción 1\n",
        "\n",
        "2.Opción 2\n",
        "\n",
        "3.Opción 3\n",
        "\n",
        "4.Opción 4\n",
        "\n",
        "5.Otro\"\n",
        "\n",
        "\"#Pedirle al usuario el número de la opción escogida.\"\n",
        "\"# Realizar un condicional anidado que a partir del número escogido imprima la ficha de la película\"\n",
        "\n",
        "Si no selecciona ninguna de las opciones debe imprimirse un mensaje de error.\n"
      ]
    },
    {
      "cell_type": "code",
      "execution_count": null,
      "metadata": {
        "id": "VOaRfqaYx4Hw",
        "colab": {
          "base_uri": "https://localhost:8080/"
        },
        "outputId": "6706e750-077d-4473-890c-ed911c8d0b8c"
      },
      "outputs": [
        {
          "output_type": "stream",
          "name": "stdout",
          "text": [
            "Selecciona un número que indique el nombre de tu película favorita: \n",
            "1. Harry Potter y el Caliz de Fuego\n",
            "2. Mi pobre angelito 2\n",
            "3. Volver al Futuro 1\n",
            "4. Soy Leyenda\n",
            "5. Otra\n",
            "5\n",
            "Lamento que tu película favorita no se encuentre en la lista, programa finalizado\n"
          ]
        }
      ],
      "source": [
        "def main():\n",
        "\n",
        "    num_opcion = -1\n",
        "    string_opcion = ''\n",
        "\n",
        "    # Para simplificar y evitar reescribir datos de forma recurrente, creo un diccionario que tiene toda la info de la peli\n",
        "    # Titulo, Director, Año de estreno\n",
        "    peliculas = {\n",
        "        1: {\"Titulo\": \"Harry Potter y el Caliz de Fuego\", \"Director\": \"Mike Newell\", \"Año\": 2005},\n",
        "        2: {\"Titulo\": \"Mi pobre angelito 2\", \"Director\": \"Chris Columbus\", \"Año\": 1992},\n",
        "        3: {\"Titulo\": \"Volver al Futuro 1\", \"Director\": \"Robert Zemeckis\", \"Año\": 1985},\n",
        "        4: {\"Titulo\": \"Soy Leyenda\", \"Director\": \"Francis Lawrence\", \"Año\": 2007}\n",
        "    }\n",
        "\n",
        "    # Le pidio al usuario la opcion a elegir y me aseguro de que no cometa errores\n",
        "    # capturandolos con try y except, agrego un except especifico para 'KeyboardInterrup',\n",
        "    # esto evita el bucle infinito en jupyter/collab en caso de interrupcion del programa\n",
        "    # por parte del usuario\n",
        "    while True:\n",
        "        try:\n",
        "            # Limpiamos el string para evitar que se acumulen las opciones y agregamos la primer cadena\n",
        "            string_opcion = 'Selecciona un número que indique el nombre de tu película favorita: \\n'\n",
        "\n",
        "            # For para cargar en el string las opciones de peliculas\n",
        "            try:\n",
        "              for i in range(1, len(peliculas) + 1): string_opcion += str(i) + '. ' + peliculas[i]['Titulo'] + '\\n'\n",
        "            except KeyError as e:\n",
        "              print(f'[ERROR] La ficha de la pelicula es erronea, el programa no puede continuar (1): {e}')\n",
        "              raise\n",
        "\n",
        "            string_opcion += str(i + 1) + '. Otra\\n'\n",
        "\n",
        "            # Le pedimos al usuario que ingrese la opcion\n",
        "            num_opcion = input(string_opcion)\n",
        "            num_opcion = int(num_opcion)\n",
        "\n",
        "            # Para cumplir con la consigna dice que se necesita una comprobacion condicional anidada\n",
        "            # para aprender el comportamiento del 'if ... elif', aqui se expresa\n",
        "            # Elegir películas: Harry Potter y el Caliz de Fuego, Mi pobre angelito 2, Volver al Futuro 1, Soy Leyenda\n",
        "            if num_opcion > 0 and num_opcion < len(peliculas) + 1:\n",
        "              try:\n",
        "                if num_opcion == 1:\n",
        "                    print('Tu película favorita es: ', peliculas[1]['Titulo'] + '\\n' + 'Fue dirigida por: ', peliculas[1]['Director'] + '\\n' + 'Año de estreno: ', peliculas[1]['Año'])\n",
        "                elif num_opcion == 2:\n",
        "                    print('Tu película favorita es: ', peliculas[2]['Titulo'] + '\\n' + 'Fue dirigida por: ', peliculas[2]['Director'] + '\\n' + 'Año de estreno: ', peliculas[2]['Año'])\n",
        "                elif num_opcion == 3:\n",
        "                    print('Tu película favorita es: ', peliculas[3]['Titulo'] + '\\n' + 'Fue dirigida por: ', peliculas[3]['Director'] + '\\n' + 'Año de estreno: ', peliculas[3]['Año'])\n",
        "                elif num_opcion == 4:\n",
        "                    print('Tu película favorita es: ', peliculas[4]['Titulo'] + '\\n' + 'Fue dirigida por: ', peliculas[4]['Director'] + '\\n' + 'Año de estreno: ', peliculas[4]['Año'])\n",
        "              except KeyError as e:\n",
        "                print(f'[ERROR] La ficha de la pelicula es erronea (2): {e}')\n",
        "\n",
        "            # Opción adicional de descarte, a diferencia del error, el programa emite un mensaje y finaliza el programa naturalmente\n",
        "            elif num_opcion == 5:\n",
        "              print('Lamento que tu película favorita no se encuentre en la lista, programa finalizado')\n",
        "              return\n",
        "\n",
        "            else:\n",
        "              # Le damos la chance al usuario de elegir otra opción\n",
        "              print('[ERROR] Opción fuera de rango, por favor elija otra')\n",
        "              continue\n",
        "\n",
        "        except (ValueError, EOFError):\n",
        "          print('[ERROR] Valor ingresado incorrecto')\n",
        "          continue\n",
        "        except KeyboardInterrupt:\n",
        "          print('[INFO] Programa interrumpido por el usuario')\n",
        "          return\n",
        "        except Exception as e:\n",
        "          print(f'[ERROR] Excepción no controlada - {e}')\n",
        "          raise\n",
        "\n",
        "        # Como no suele ser necesario continuar, debemos hacer break para el\n",
        "        # porgrama continue su \"ciclo natural\" sin loops\n",
        "        break\n",
        "\n",
        "# Es escencial para que el return tenga una via de escape\n",
        "if __name__ == \"__main__\":\n",
        "  main()"
      ]
    },
    {
      "cell_type": "code",
      "source": [
        "# Declaro main\n",
        "def main():\n",
        "  # Declaro variables vacias de lo que voy a usar, muy importante que sean strings\n",
        "  nombre = \"\"\n",
        "  apellido = \"\"\n",
        "  edad = \"\"\n",
        "  excel_opt = \"\"\n",
        "  excel = \"\"\n",
        "  lenguaje = \"\"\n",
        "  lenguaje_opt = \"\"\n",
        "\n",
        "  # Inicio el while True con 'try & except' para en caso de que el usuario\n",
        "  # seleccione escriba o haga algo que resulte en error o se interrumpa el\n",
        "  # programa\n",
        "  while True:\n",
        "    try:\n",
        "      if nombre == \"\":\n",
        "        nombre = input(\"¿Cual es su nombre?\\n\")\n",
        "\n",
        "        if len(nombre) < 3 or nombre == \"\" or has_numbers(nombre):\n",
        "          print(\"[Error] Respuesta incorrecta\")\n",
        "          nombre = \"\"\n",
        "          continue\n",
        "\n",
        "      if apellido == \"\":\n",
        "        apellido = input(\"¿Cual es su apellido?\\n\")\n",
        "\n",
        "        if len(apellido) < 3 or apellido == \"\" or has_numbers(apellido):\n",
        "          print(\"[Error] Respuesta incorrecta\")\n",
        "          apellido = \"\"\n",
        "          continue\n",
        "\n",
        "      if edad == \"\":\n",
        "        edad = input(\"¿Cual es su edad?\\n\")\n",
        "        if edad.isnumeric():\n",
        "          if int(edad) > 150 or int(edad) < 0:\n",
        "            print(\"[Error] Respuesta incorrecta\")\n",
        "            edad = \"\"\n",
        "            continue\n",
        "        else:\n",
        "          edad = \"\"\n",
        "          print(\"[Error] Respuesta incorrecta\")\n",
        "          continue\n",
        "\n",
        "\n",
        "      if excel_opt == \"\":\n",
        "        excel_opt = input(\"¿Sabe usar excel?\\n 1. Si\\n 2. No\\n\")\n",
        "        if excel_opt.isnumeric():\n",
        "          if int(excel_opt) == 1:\n",
        "            excel = \"si\"\n",
        "          elif int(excel_opt) == 2:\n",
        "            excel = \"no\"\n",
        "          else:\n",
        "            print(\"[Error] Respuesta incorrecta\")\n",
        "            excel_opt = \"\"\n",
        "            continue\n",
        "        else:\n",
        "          print(\"[Error] Respuesta incorrecta\")\n",
        "          excel_opt = \"\"\n",
        "          continue\n",
        "\n",
        "      if lenguaje_opt == \"\":\n",
        "        lenguaje_opt = input(\"¿Sabes algún lenguaje de programación? ¿Cuál? (lenguaje)\\nOpciones:\\n 1. Ningún\\n 2. C\\n 3. C++\\n 4. Java\\n 5. JavaScript\\n 6. Python\\n 7. R\\n 8. SQL\\n\")\n",
        "        if lenguaje_opt.isnumeric():\n",
        "          if not (int(lenguaje_opt) > 0 and int(lenguaje_opt) < 9) or int(lenguaje_opt) == 0:\n",
        "            print(\"[Error] Respuesta incorrecta\")\n",
        "            lenguaje_opt = \"\"\n",
        "            continue\n",
        "          else:\n",
        "            lenguaje_array = [\"ningún\", \"C\", \"C++\", \"Java\", \"JavaScript\", \"Python\", \"R\", \"SQL\"]\n",
        "            lenguaje = lenguaje_array[int(lenguaje_opt)]\n",
        "        else:\n",
        "         print(\"[Error] Respuesta incorrecta\")\n",
        "         lenguaje_opt = \"\"\n",
        "         continue\n",
        "\n",
        "      print(\"El estudiante\", nombre, apellido, \"de edad\", edad, \"que\", excel, \"sabe usar excel y conoce\", lenguaje, \"lenguaje de programación\")\n",
        "      break\n",
        "\n",
        "    except ValueError:\n",
        "      print(\"[ERROR] Error, ingrese el valor correcto\")\n",
        "      continue\n",
        "    except KeyboardInterrupt:\n",
        "      print(\"[INFO] Programa finalizado\")\n",
        "      return\n",
        "    except:\n",
        "      raise\n",
        "\n",
        "# https://stackoverflow.com/questions/19859282/check-if-a-string-contains-a-number\n",
        "def has_numbers(inputString):\n",
        "    return any(char.isdigit() for char in inputString)\n",
        "\n",
        "# Codigo interno de python especifico para iniciar el programa\n",
        "if __name__ == \"__main__\":\n",
        "  main()"
      ],
      "metadata": {
        "colab": {
          "base_uri": "https://localhost:8080/"
        },
        "id": "RDQumGx2_7O0",
        "outputId": "14c61162-b3b2-4131-e146-9a5736918530"
      },
      "execution_count": null,
      "outputs": [
        {
          "output_type": "stream",
          "name": "stdout",
          "text": [
            "¿Cual es su nombre?\n",
            "\n",
            "[Error] Respuesta incorrecta\n",
            "¿Cual es su nombre?\n",
            "franco\n",
            "¿Cual es su apellido?\n",
            "maro\n",
            "¿Cual es su edad?\n",
            "\n",
            "[Error] Respuesta incorrecta\n",
            "¿Cual es su edad?\n",
            "1\n",
            "[INFO] Programa finalizado\n"
          ]
        }
      ]
    },
    {
      "cell_type": "code",
      "source": [
        "# Declaro main\n",
        "def main():\n",
        "\n",
        "  # Declaro variables vacias de lo que voy a usar\n",
        "  nombre = \"\"\n",
        "  apellido = \"\"\n",
        "  edad_opt = \"\"\n",
        "  edad = 0\n",
        "  excel = \"\"\n",
        "  lenguaje = \"\"\n",
        "  lenguaje_opt = \"\"\n",
        "\n",
        "  # Maximo de intentos para el usuario, en errores no previstos, para evitar loops infinitos\n",
        "  max_intentos = 15\n",
        "\n",
        "  # Inicio el while True con 'try & except' para en caso de que el usuario\n",
        "  # seleccione escriba o haga algo que resulte en error o se interrumpa el\n",
        "  # programa\n",
        "  while True:\n",
        "\n",
        "    # Uso try & except para en caso de que el usuario seleccione escriba o haga, con esto evito que el programa se interrumpa\n",
        "    # y se cierre en caso de algun error, hago que el programa continue con el raise y continue\n",
        "    try:\n",
        "      # Si el nombre esta vacio, pregunto, hasta que el usuario responda correctamente o se cierre el programa\n",
        "      if nombre == \"\":\n",
        "        nombre = input(\"¿Cual es su nombre?\\n\")\n",
        "        if len(nombre) < 3 or nombre.isdigit() or nombre.isspace():\n",
        "          print(\"[Error] Respuesta incorrecta\")\n",
        "          nombre = \"\"\n",
        "          continue\n",
        "\n",
        "      # Si el apellido esta vacio, pregunto, hasta que el usuario responda correctamente o se cierre el programa\n",
        "      if apellido == \"\":\n",
        "        apellido = input(\"¿Cual es su apellido?\\n\")\n",
        "        if len(apellido) < 3 or apellido.isdigit() or apellido.isspace():\n",
        "          print(\"[Error] Respuesta incorrecta\")\n",
        "          apellido = \"\"\n",
        "          continue\n",
        "\n",
        "      # Uso try & except para en caso de que el usuario seleccione escriba o haga, con esto evito que el programa se interrumpa\n",
        "      try:\n",
        "        # Si la edad es 0, pregunto, hasta que el usuario responda correctamente o se cierre el programa\n",
        "        if edad == 0:\n",
        "          edad_opt = input(\"¿Cual es su edad?\\n\")\n",
        "          if not (int(edad_opt) > -1 and int(edad_opt) < 150):\n",
        "            print(\"[Error] Respuesta incorrecta\")\n",
        "            continue\n",
        "          else:\n",
        "            edad = int(edad_opt)\n",
        "\n",
        "      # Hago raise y evito casi cualquier error, para que el programa no se cierre y vuelva a preguntar al usuario hasta que responda correctamente\n",
        "      # Si necesidad de volver a ejecutar el programa o usar tantas condiciones\n",
        "      except:\n",
        "         raise\n",
        "\n",
        "      # Uso try & except para en caso de que el usuario seleccione escriba o haga, con esto evito que el programa se interrumpa\n",
        "      try:\n",
        "        # Lo mismo en todo, si no se fija un valor el programa continua preguntando\n",
        "        if excel == \"\":\n",
        "          excel_opt = input(\"¿Sabe usar excel?\\n 1. Si\\n 2. No\\n\")\n",
        "\n",
        "          # Compruebo cada opcion y me aseguro que sea el numero correcto.\n",
        "          # Si no es el numero correcto, o es algo distinto me aseguro que el programa continue\n",
        "          # porque el int me lanza una excepcion y el raise me lo sube al try & except principal\n",
        "          # o por el else y vuelve a preguntar.\n",
        "          if int(excel_opt) == 1:\n",
        "            excel = \"si\"\n",
        "          elif int(excel_opt) == 2:\n",
        "            excel = \"no\"\n",
        "          else:\n",
        "            print(\"[Error] Respuesta incorrecta\")\n",
        "            continue\n",
        "\n",
        "      # Hago raise y evito casi cualquier error, para que el programa no se cierre y vuelva a preguntar al usuario hasta que responda correctamente\n",
        "      # Si necesidad de volver a ejecutar el programa o usar tantas condiciones\n",
        "      except:\n",
        "        raise\n",
        "\n",
        "      # Uso try & except para en caso de que el usuario seleccione escriba o haga, con esto evito que el programa se interrumpa\n",
        "      try:\n",
        "        # Si el lenguaje es vacio, pregunto, hasta que el usuario responda correctamente o se cierre el programa\n",
        "        if lenguaje == \"\":\n",
        "          lenguaje_opt = input(\"¿Sabes algún lenguaje de programación? ¿Cuál? (lenguaje)\\nOpciones:\\n 1. Ningún\\n 2. C\\n 3. C++\\n 4. Java\\n 5. JavaScript\\n 6. Python\\n 7. R\\n 8. SQL\\n\")\n",
        "\n",
        "          # Compruebo cada opcion y me aseguro que sea el numero correcto.\n",
        "          # Si no es el numero correcto, o es algo distinto me aseguro que el programa continue\n",
        "          # porque el int me lanza una excepcion y el raise me lo sube al try & except principal\n",
        "          # o por el else y vuelve a preguntar.\n",
        "          if int(lenguaje_opt) == 1:\n",
        "            lenguaje = \"ningún\"\n",
        "          elif int(lenguaje_opt) == 2:\n",
        "            lenguaje = \"C\"\n",
        "          elif int(lenguaje_opt) == 3:\n",
        "            lenguaje = \"C++\"\n",
        "          elif int(lenguaje_opt) == 4:\n",
        "            lenguaje = \"Java\"\n",
        "          elif int(lenguaje_opt) == 5:\n",
        "            lenguaje = \"JavaScript\"\n",
        "          elif int(lenguaje_opt) == 6:\n",
        "            lenguaje = \"Python\"\n",
        "          elif int(lenguaje_opt) == 7:\n",
        "            lenguaje = \"R\"\n",
        "          elif int(lenguaje_opt) == 8:\n",
        "            lenguaje = \"SQL\"\n",
        "          else:\n",
        "            print(\"[Error] Respuesta incorrecta\")\n",
        "            continue\n",
        "\n",
        "      # Hago raise y evito casi cualquier error, para que el programa no se cierre y vuelva a preguntar al usuario hasta que responda correctamente\n",
        "      # Si necesidad de volver a ejecutar el programa o usar tantas condiciones\n",
        "      except:\n",
        "        raise\n",
        "\n",
        "      # Imprimo el resultado\n",
        "      print(\"El estudiante\", nombre, apellido, \"de edad\", edad, \"que\", excel, \"sabe usar excel y conoce\", lenguaje, \"lenguaje de programación\")\n",
        "\n",
        "      # Habilito el break para que el programa se cierre\n",
        "      break\n",
        "\n",
        "    # Uso except para diferentes casos previamente definidos\n",
        "    except ValueError:\n",
        "      print(\"[ERROR] Error, ingrese el valor correcto\")\n",
        "      continue\n",
        "\n",
        "    # Esto es por si el usuario quiere cerrar el programa, especialmente usando Jupyter Notebook o Google Colab\n",
        "    except KeyboardInterrupt:\n",
        "      print(\"[INFO] Programa finalizado\")\n",
        "      return\n",
        "\n",
        "    # Otro error no previsto\n",
        "    except:\n",
        "      # Si los intentos son mayores a 0, resto un intento y continuo\n",
        "      if max_intentos > 0:\n",
        "        max_intentos -= 1\n",
        "        continue\n",
        "\n",
        "      # Si los intentos son menores o iguales a 0, cierro el programa\n",
        "      else:\n",
        "        print(\"[ERROR] Error, demasiados intentos fallidos, chau\")\n",
        "        return\n",
        "\n",
        "# Codigo interno de python especifico para iniciar el programa\n",
        "if __name__ == \"__main__\":\n",
        "  main()"
      ],
      "metadata": {
        "colab": {
          "base_uri": "https://localhost:8080/"
        },
        "id": "8-4EZJf7Dt7l",
        "outputId": "88fc514d-9360-428d-8af4-4e5888bdd97e"
      },
      "execution_count": null,
      "outputs": [
        {
          "output_type": "stream",
          "name": "stdout",
          "text": [
            "¿Cual es su nombre?\n",
            "         \n",
            "[Error] Respuesta incorrecta\n",
            "¿Cual es su nombre?\n",
            "Franco\n",
            "¿Cual es su apellido?\n",
            "Maro\n",
            "¿Cual es su edad?\n",
            "25\n",
            "¿Sabe usar excel?\n",
            " 1. Si\n",
            " 2. No\n",
            "1\n",
            "¿Sabes algún lenguaje de programación? ¿Cuál? (lenguaje)\n",
            "Opciones:\n",
            " 1. Ningún\n",
            " 2. C\n",
            " 3. C++\n",
            " 4. Java\n",
            " 5. JavaScript\n",
            " 6. Python\n",
            " 7. R\n",
            " 8. SQL\n",
            "3\n",
            "El estudiante Franco Maro de edad 25 que si sabe usar excel y conoce C++ lenguaje de programación\n"
          ]
        }
      ]
    },
    {
      "cell_type": "code",
      "source": [
        "def main():\n",
        "  try:\n",
        "    tiempolibre = input(\"¿Qué haces en tu tiempo libre? \")\n",
        "    trabajosino = input(\"¿Trabajas? Si trabajas, ¿de que? \")\n",
        "    equipofutbol = input(\"¿De qué equipo de fútbol sos? \")\n",
        "    heladofav = input(\"¿Cuál es tu gusto de helado favorito? \")\n",
        "    comidafav = input(\"¿Cuál es tu comida favorita? \")\n",
        "    print(f\"Trabajo o no de: {trabajosino}; En mi tiempo libre {tiempolibre}. Mi equipo de futbol favorito es {equipofutbol}, y me gusta comer {comidafav} y después tomar helado de {heladofav}\")\n",
        "    return\n",
        "  except:\n",
        "    print(\"Error en la respuesta\")\n",
        "    return\n",
        "\n",
        "if __name__ == \"__main__\":\n",
        "  main()\n",
        "\n",
        "\n"
      ],
      "metadata": {
        "colab": {
          "base_uri": "https://localhost:8080/"
        },
        "id": "bMLhfe7LigjB",
        "outputId": "c7232546-2a1d-4fa9-97fd-3de558a0b1f2"
      },
      "execution_count": null,
      "outputs": [
        {
          "output_type": "stream",
          "name": "stdout",
          "text": [
            "¿Qué haces en tu tiempo libre? voy al gimnasio\n",
            "¿Trabajas? Si trabajas, ¿de que? de programador\n",
            "¿De qué equipo de fútbol sos? San lorenzo\n",
            "¿Cuál es tu gusto de helado favorito? Frutilla\n",
            "¿Cuál es tu comida favorita? milanesa a la napolitana\n",
            "Trabajo o no de: de programador; En mi tiempo libre voy al gimnasio. Mi equipo de futbol favorito es San lorenzo, y me gusta comer milanesa a la napolitana y despues tomar helado de Frutilla\n"
          ]
        }
      ]
    }
  ],
  "metadata": {
    "colab": {
      "provenance": [],
      "include_colab_link": true
    },
    "kernelspec": {
      "display_name": "Python 3",
      "name": "python3"
    },
    "language_info": {
      "name": "python"
    }
  },
  "nbformat": 4,
  "nbformat_minor": 0
}